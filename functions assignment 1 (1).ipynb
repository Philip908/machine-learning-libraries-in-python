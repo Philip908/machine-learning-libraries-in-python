{
 "cells": [
  {
   "cell_type": "code",
   "execution_count": null,
   "id": "50f4c903",
   "metadata": {},
   "outputs": [],
   "source": [
    "###Assignment 1\n"
   ]
  },
  {
   "cell_type": "code",
   "execution_count": 2,
   "id": "00308f7c",
   "metadata": {},
   "outputs": [
    {
     "name": "stdout",
     "output_type": "stream",
     "text": [
      "enter the name:philip\n",
      "Hello philip nice to meet you!\n"
     ]
    }
   ],
   "source": [
    "def abc(name):\n",
    "    print(\"Hello\",name,\"nice to meet you!\")\n",
    "their_name=input(\"enter the name:\")\n",
    "abc(their_name)"
   ]
  },
  {
   "cell_type": "code",
   "execution_count": 26,
   "id": "d30fb3bd",
   "metadata": {},
   "outputs": [
    {
     "name": "stdout",
     "output_type": "stream",
     "text": [
      " Enter the String : efw\n",
      "Total Number of Characters in this String   3\n"
     ]
    }
   ],
   "source": [
    "def abc(a):\n",
    "    a = input(\" Enter the String : \")\n",
    "    total = 0\n",
    " \n",
    "    for i in a:\n",
    "        total = total + 1\n",
    " \n",
    "    print(\"Total Number of Characters in this String  \", total)\n",
    "abc(total)\n"
   ]
  },
  {
   "cell_type": "code",
   "execution_count": 24,
   "id": "16792b9a",
   "metadata": {},
   "outputs": [
    {
     "name": "stdout",
     "output_type": "stream",
     "text": [
      "enter the BMI:5\n",
      "you are within the ideal weight range\n"
     ]
    }
   ],
   "source": [
    "x=float(input(\"enter the BMI:\"))\n",
    "if x<=19.5:\n",
    "    print(\"you are within the ideal weight range\")\n",
    "else:\n",
    "    print(\"you are overweight,you should consult the doctor\")"
   ]
  },
  {
   "cell_type": "code",
   "execution_count": 25,
   "id": "bb96478a",
   "metadata": {},
   "outputs": [
    {
     "name": "stdout",
     "output_type": "stream",
     "text": [
      "enter the month num:3\n",
      "march\n"
     ]
    }
   ],
   "source": [
    "month=int(input(\"enter the month num:\"))\n",
    "if month==1:\n",
    "    print(\"january\")\n",
    "elif month==2:\n",
    "    print(\"february\")\n",
    "elif month==3:\n",
    "    print(\"march\")\n",
    "elif month==4:\n",
    "    print(\"april\")\n",
    "elif month==5:\n",
    "    print(\"may\")\n",
    "elif month==6:\n",
    "    print(\"june\")\n",
    "elif month==7:\n",
    "    print(\"july\")\n",
    "elif month==8:\n",
    "    print(\"august\")\n",
    "elif month==9:\n",
    "    print(\"september\")\n",
    "elif month==10:\n",
    "    print(\"october\")\n",
    "elif month==11:\n",
    "    print(\"november\")\n",
    "elif month==12:\n",
    "    print(\"december\")\n",
    "else:\n",
    "    print(\"enter the correct value\")"
   ]
  },
  {
   "cell_type": "code",
   "execution_count": 22,
   "id": "6b8f7da0",
   "metadata": {},
   "outputs": [
    {
     "name": "stdout",
     "output_type": "stream",
     "text": [
      "Enter the string 1 : note\n",
      "Enter the string 2 : tone\n",
      "Strings are anagram\n"
     ]
    }
   ],
   "source": [
    "def abc(str1,str2):\n",
    "    return sorted(str1) == sorted(str2)\n",
    "str1 = input(\"Enter the string 1 : \")\n",
    "str2 = input(\"Enter the string 2 : \")\n",
    "if abc(str1,str2):\n",
    "    print(\"Strings are anagram\")\n",
    "else:\n",
    "    print(\"Strings are not anagram\")"
   ]
  },
  {
   "cell_type": "code",
   "execution_count": null,
   "id": "c8253fbc",
   "metadata": {},
   "outputs": [],
   "source": [
    "def abc(str1,str2):\n",
    "    "
   ]
  }
 ],
 "metadata": {
  "kernelspec": {
   "display_name": "Python 3 (ipykernel)",
   "language": "python",
   "name": "python3"
  },
  "language_info": {
   "codemirror_mode": {
    "name": "ipython",
    "version": 3
   },
   "file_extension": ".py",
   "mimetype": "text/x-python",
   "name": "python",
   "nbconvert_exporter": "python",
   "pygments_lexer": "ipython3",
   "version": "3.9.7"
  }
 },
 "nbformat": 4,
 "nbformat_minor": 5
}
